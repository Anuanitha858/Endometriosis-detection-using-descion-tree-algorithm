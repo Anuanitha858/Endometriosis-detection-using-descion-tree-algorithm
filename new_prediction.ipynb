{
 "cells": [
  {
   "cell_type": "code",
   "execution_count": 2,
   "id": "9f0853c0",
   "metadata": {},
   "outputs": [
    {
     "name": "stdout",
     "output_type": "stream",
     "text": [
      "Heavy / Extreme menstrual bleeding: 0\n",
      "Painful / Burning pain during sex (Dyspareunia): 0\n",
      "Pelvic pain: 0\n",
      "Irregular / Missed periods: 1\n",
      "Cramping: 0\n",
      "Abdominal pain / pressure: 1\n",
      "Back pain: 0\n",
      "Painful bowel movements: 1\n",
      "Nausea: 0\n",
      "Menstrual clots: 0\n",
      "Infertility: 0\n",
      "Pain / Chronic pain: 0\n",
      "Diarrhea: 0\n",
      "Long menstruation: 1\n",
      "Constipation / Chronic constipation: 0\n",
      "Vomiting / constant vomiting: 1\n",
      "Fatigue / Chronic fatigue: 0\n",
      "Painful ovulation: 0\n",
      "Stomach cramping: 0\n",
      "Migraines: 0\n",
      "Extreme / Severe pain: 0\n",
      "Leg pain: 0\n",
      "Irritable Bowel Syndrome (IBS): 0\n",
      "Syncope (fainting, passing out): 0\n",
      "Mood swings: 1\n",
      "Bleeding: 0\n",
      "Lower back pain: 1\n",
      "Fertility Issues: 0\n",
      "Ovarian cysts: 0\n",
      "Painful urination: 1\n",
      "Headaches: 0\n",
      "Constant bleeding: 0\n",
      "Pain after Intercourse: 0\n",
      "Digestive / GI problems: 0\n",
      "IBS-like symptoms: 0\n",
      "Excessive bleeding: 0\n",
      "Anaemia / Iron deficiency: 0\n",
      "Hip pain: 0\n",
      "Vaginal Pain/Pressure: 0\n",
      "Sharp / Stabbing pain: 0\n",
      "Bowel pain: 0\n",
      "Cysts (unspecified): 0\n",
      "Dizziness: 0\n",
      "Malaise / Sickness: 0\n",
      "Abnormal uterine bleeding: 0\n",
      "Fever: 0\n",
      "Hormonal problems: 0\n",
      "Bloating: 0\n",
      "Feeling sick: 0\n",
      "Decreased energy / Exhaustion: 0\n",
      "Abdominal Cramps during Intercourse: 0\n",
      "Insomnia / Sleeplessness: 0\n",
      "Acne / pimples: 0\n",
      "Loss of appetite: 0\n",
      "Depression / Anxiety: 0\n",
      "Painful Periods: 0\n",
      "No problem!... You are not having many chances to have Endometriosis...\n"
     ]
    },
    {
     "name": "stderr",
     "output_type": "stream",
     "text": [
      "/home/anitha/anaconda3/lib/python3.11/site-packages/sklearn/base.py:493: UserWarning: X does not have valid feature names, but StandardScaler was fitted with feature names\n",
      "  warnings.warn(\n"
     ]
    }
   ],
   "source": [
    "##### import numpy as np\n",
    "import import_ipynb\n",
    "from main import * \n",
    "\n",
    "# Assuming X is your feature matrix and y is your target variable\n",
    "# Also assuming decision_tree_model is your DecisionTreeClassifier model\n",
    "\n",
    "# Feature names\n",
    "feature_names = X.columns\n",
    "\n",
    "# Get the input features for a new prediction\n",
    "new_input_features = []\n",
    "for feature_name in feature_names:\n",
    "    value = input(f\"{feature_name}: \")\n",
    "    while value not in ['0', '1']:\n",
    "        print(\"Please enter a valid value for feature (0 or 1).\")\n",
    "        value = input(f\"{feature_name}: \")\n",
    "    new_input_features.append(int(value))\n",
    "\n",
    "new_input_features_array = np.array(new_input_features).reshape(1, -1)\n",
    "new_input_features_scaled = scaler.transform(new_input_features_array)\n",
    "\n",
    "# Get the probability for the new input features having endometriosis (class 1)\n",
    "prediction_proba = decision_tree_model.predict_proba(new_input_features_scaled)\n",
    "if prediction_proba[:,1]==[1.]:\n",
    "    print(\"You have more chances to have Endometriosis... Consult an gynacologist immediately...\")\n",
    "else:\n",
    "    print(\"No problem!... You are having less chances of Endometriosis...\")\n"
   ]
  },
  {
   "cell_type": "markdown",
   "id": "2d6ad835",
   "metadata": {},
   "source": [
    "1"
   ]
  },
  {
   "cell_type": "code",
   "execution_count": null,
   "id": "bfe9e415",
   "metadata": {},
   "outputs": [],
   "source": []
  }
 ],
 "metadata": {
  "kernelspec": {
   "display_name": "Python 3 (ipykernel)",
   "language": "python",
   "name": "python3"
  },
  "language_info": {
   "codemirror_mode": {
    "name": "ipython",
    "version": 3
   },
   "file_extension": ".py",
   "mimetype": "text/x-python",
   "name": "python",
   "nbconvert_exporter": "python",
   "pygments_lexer": "ipython3",
   "version": "3.11.5"
  }
 },
 "nbformat": 4,
 "nbformat_minor": 5
}
